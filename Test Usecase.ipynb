{
 "cells": [
  {
   "cell_type": "code",
   "execution_count": 1,
   "metadata": {
    "collapsed": true
   },
   "outputs": [],
   "source": [
    "from tables import *\n",
    "import numpy as np\n",
    "import pandas as pd\n",
    "import pyarrow.parquet as pq\n",
    "import time\n",
    "from memory_profiler import memory_usage"
   ]
  },
  {
   "cell_type": "markdown",
   "metadata": {},
   "source": [
    "Usecase: sum over rows"
   ]
  },
  {
   "cell_type": "markdown",
   "metadata": {},
   "source": [
    "Pandas no modfication"
   ]
  },
  {
   "cell_type": "code",
   "execution_count": 8,
   "metadata": {},
   "outputs": [
    {
     "name": "stderr",
     "output_type": "stream",
     "text": [
      "/usr/local/lib/python3.5/dist-packages/numpy/lib/arraysetops.py:522: FutureWarning: elementwise comparison failed; returning scalar instead, but in the future will perform elementwise comparison\n",
      "  mask |= (ar1 == a)\n"
     ]
    },
    {
     "name": "stdout",
     "output_type": "stream",
     "text": [
      "time: 3.394268035888672s\n",
      "Allo. RAM Peak: 1218.25390625 Mb\n"
     ]
    }
   ],
   "source": [
    "def pandas_pure():\n",
    "    \n",
    "    start = time.time()\n",
    "    data = pd.read_csv(\"testdata/table.tsv\",sep=\"\\t\", index_col=0)\n",
    "    row_sum = data.sum(axis=1)\n",
    "    end = time.time()\n",
    "    print(\"time: \"+str(end-start)+\"s\")\n",
    "    del data\n",
    "    del row_sum\n",
    "    del start\n",
    "    del end\n",
    "    \n",
    "mem = memory_usage(pandas_pure)\n",
    "print(\"Allo. RAM Peak: \"+str(max(mem)-mem[0])+\" Mb\")"
   ]
  },
  {
   "cell_type": "markdown",
   "metadata": {},
   "source": [
    "Pandas iterator"
   ]
  },
  {
   "cell_type": "code",
   "execution_count": 3,
   "metadata": {},
   "outputs": [
    {
     "name": "stdout",
     "output_type": "stream",
     "text": [
      "time: 5.7114105224609375s\n",
      "Allo. RAM Peak: 84.2578125 Mb\n"
     ]
    }
   ],
   "source": [
    "def pandas_iterate():\n",
    "    \n",
    "    start = time.time()\n",
    "    data = pd.read_csv(\"testdata/table.tsv\",sep=\"\\t\", index_col=0, chunksize=1000)\n",
    "    row_sum = [chunk.sum(axis=1) for chunk in data]\n",
    "    row_sum = [x for y in row_sum for x in y]\n",
    "    end = time.time()\n",
    "    print(\"time: \"+str(end-start)+\"s\")\n",
    "    del data\n",
    "    del row_sum\n",
    "    del start\n",
    "    del end\n",
    "    \n",
    "mem = memory_usage(pandas_iterate)\n",
    "print(\"Allo. RAM Peak: \"+str(max(mem)-mem[0])+\" Mb\")"
   ]
  },
  {
   "cell_type": "markdown",
   "metadata": {},
   "source": [
    "Pandas low memory mode"
   ]
  },
  {
   "cell_type": "code",
   "execution_count": 6,
   "metadata": {},
   "outputs": [
    {
     "name": "stderr",
     "output_type": "stream",
     "text": [
      "/usr/local/lib/python3.5/dist-packages/numpy/lib/arraysetops.py:522: FutureWarning: elementwise comparison failed; returning scalar instead, but in the future will perform elementwise comparison\n",
      "  mask |= (ar1 == a)\n"
     ]
    },
    {
     "name": "stdout",
     "output_type": "stream",
     "text": [
      "time: 3.4681665897369385s\n",
      "Allo. RAM Peak: 1217.84765625 Mb\n"
     ]
    }
   ],
   "source": [
    "def pandas_lowmem():\n",
    "    \n",
    "    start = time.time()\n",
    "    data = pd.read_csv(\"testdata/table.tsv\",sep=\"\\t\", index_col=0, low_memory=True)\n",
    "    row_sum = data.sum(axis=1)\n",
    "    end = time.time()\n",
    "    print(\"time: \"+str(end-start)+\"s\")\n",
    "    del data\n",
    "    del row_sum\n",
    "    del start\n",
    "    del end\n",
    "    \n",
    "mem = memory_usage(pandas_lowmem)\n",
    "print(\"Allo. RAM Peak: \"+str(max(mem)-mem[0])+\" Mb\")"
   ]
  },
  {
   "cell_type": "markdown",
   "metadata": {},
   "source": [
    "memory map"
   ]
  },
  {
   "cell_type": "code",
   "execution_count": 7,
   "metadata": {},
   "outputs": [
    {
     "name": "stderr",
     "output_type": "stream",
     "text": [
      "/usr/local/lib/python3.5/dist-packages/numpy/lib/arraysetops.py:522: FutureWarning: elementwise comparison failed; returning scalar instead, but in the future will perform elementwise comparison\n",
      "  mask |= (ar1 == a)\n"
     ]
    },
    {
     "name": "stdout",
     "output_type": "stream",
     "text": [
      "time: 3.2516770362854004s\n",
      "Allo. RAM Peak: 1218.00390625 Mb\n"
     ]
    }
   ],
   "source": [
    "def pandas_memmap():\n",
    "    \n",
    "    start = time.time()\n",
    "    data = pd.read_csv(\"testdata/table.tsv\",sep=\"\\t\", index_col=0, memory_map=True)\n",
    "    row_sum = data.sum(axis=1)\n",
    "    end = time.time()\n",
    "    print(\"time: \"+str(end-start)+\"s\")\n",
    "    del data\n",
    "    del row_sum\n",
    "    del start\n",
    "    del end\n",
    "    \n",
    "mem = memory_usage(pandas_memmap)\n",
    "print(\"Allo. RAM Peak: \"+str(max(mem)-mem[0])+\" Mb\")"
   ]
  },
  {
   "cell_type": "markdown",
   "metadata": {},
   "source": [
    "Parquet"
   ]
  },
  {
   "cell_type": "code",
   "execution_count": 4,
   "metadata": {},
   "outputs": [
    {
     "name": "stdout",
     "output_type": "stream",
     "text": [
      "time: 0.4632129669189453s\n",
      "Allo. RAM Peak: 1310.91796875 Mb\n"
     ]
    }
   ],
   "source": [
    "def parquet_test():\n",
    "\n",
    "    start = time.time()\n",
    "    data = pq.read_table(\"testdata/table.parquet\")\n",
    "    row_sum = data.to_pandas().sum(axis=1)\n",
    "    end = time.time()\n",
    "    print(\"time: \"+str(end-start)+\"s\")\n",
    "    del data\n",
    "    del row_sum\n",
    "    del start\n",
    "    del end\n",
    "    \n",
    "mem = memory_usage(parquet_test)\n",
    "print(\"Allo. RAM Peak: \"+str(max(mem)-mem[0])+\" Mb\")"
   ]
  },
  {
   "cell_type": "markdown",
   "metadata": {},
   "source": [
    "pytables"
   ]
  },
  {
   "cell_type": "code",
   "execution_count": 5,
   "metadata": {},
   "outputs": [
    {
     "name": "stdout",
     "output_type": "stream",
     "text": [
      "time: 8.021773099899292s\n",
      "Allo. RAM Peak: 45.21484375 Mb\n"
     ]
    }
   ],
   "source": [
    "def pytables_test():\n",
    "\n",
    "    start = time.time()\n",
    "    data = open_file(\"testdata/table.hdf5\", mode=\"r\")\n",
    "    row_sum = [sum(x[1]) for x in data.root.testing.table]\n",
    "    end = time.time()\n",
    "    data.flush()\n",
    "    print(\"time: \"+str(end-start)+\"s\")\n",
    "    del row_sum\n",
    "    del data\n",
    "    del start\n",
    "    del end\n",
    "    \n",
    "mem = memory_usage(pytables_test)\n",
    "print(\"Allo. RAM Peak: \"+str(max(mem)-mem[0])+\" Mb\")"
   ]
  }
 ],
 "metadata": {
  "kernelspec": {
   "display_name": "Python 3",
   "language": "python",
   "name": "python3"
  },
  "language_info": {
   "codemirror_mode": {
    "name": "ipython",
    "version": 3
   },
   "file_extension": ".py",
   "mimetype": "text/x-python",
   "name": "python",
   "nbconvert_exporter": "python",
   "pygments_lexer": "ipython3",
   "version": "3.5.2"
  }
 },
 "nbformat": 4,
 "nbformat_minor": 2
}
